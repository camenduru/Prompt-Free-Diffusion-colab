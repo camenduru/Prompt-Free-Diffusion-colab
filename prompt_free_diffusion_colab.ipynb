{
  "cells": [
    {
      "cell_type": "markdown",
      "metadata": {
        "id": "view-in-github"
      },
      "source": [
        "[![Open In Colab](https://colab.research.google.com/assets/colab-badge.svg)](https://colab.research.google.com/github/camenduru/Prompt-Free-Diffusion-colab/blob/main/prompt_free_diffusion_colab.ipynb)"
      ]
    },
    {
      "cell_type": "code",
      "execution_count": null,
      "metadata": {
        "id": "OqTcARgEl-Vo"
      },
      "outputs": [],
      "source": [
        "%cd /content\n",
        "!pip install huggingface_hub\n",
        "!git clone -b dev https://github.com/camenduru/Prompt-Free-Diffusion-hf\n",
        "%cd /content/Prompt-Free-Diffusion-hf\n",
        "\n",
        "from huggingface_hub import hf_hub_download\n",
        "\n",
        "hf_hub_download('ckpt/prompt-free-diffusion', 'assets/examples/astronautridinghouse-canny.png')\n",
        "hf_hub_download('ckpt/prompt-free-diffusion', 'assets/examples/bedroom-mlsd.png')\n",
        "hf_hub_download('ckpt/prompt-free-diffusion', 'assets/examples/ghibli-canny.png')\n",
        "hf_hub_download('ckpt/prompt-free-diffusion', 'assets/examples/grassland-scribble.png')\n",
        "hf_hub_download('ckpt/prompt-free-diffusion', 'assets/examples/jeep-depth.png')\n",
        "hf_hub_download('ckpt/prompt-free-diffusion', 'assets/examples/nightstreet-canny.png')\n",
        "hf_hub_download('ckpt/prompt-free-diffusion', 'assets/examples/woodcar-depth.png')\n",
        "hf_hub_download('ckpt/prompt-free-diffusion', 'assets/examples/astronautridinghouse-input.jpg')\n",
        "hf_hub_download('ckpt/prompt-free-diffusion', 'assets/examples/bedroom-input.jpg')\n",
        "hf_hub_download('ckpt/prompt-free-diffusion', 'assets/examples/ghibli-input.jpg')\n",
        "hf_hub_download('ckpt/prompt-free-diffusion', 'assets/examples/grassland-input.jpg')\n",
        "hf_hub_download('ckpt/prompt-free-diffusion', 'assets/examples/jeep-input.jpg')\n",
        "hf_hub_download('ckpt/prompt-free-diffusion', 'assets/examples/nightstreet-input.jpg')\n",
        "hf_hub_download('ckpt/prompt-free-diffusion', 'assets/examples/woodcar-input.jpg')\n",
        "\n",
        "hf_hub_download('ckpt/prompt-free-diffusion', 'assets/examples-anime/miku-canny.png')\n",
        "hf_hub_download('ckpt/prompt-free-diffusion', 'assets/examples-anime/pose.png')\n",
        "hf_hub_download('ckpt/prompt-free-diffusion', 'assets/examples-anime/pose_small.png')\n",
        "hf_hub_download('ckpt/prompt-free-diffusion', 'assets/examples-anime/pose_withhandface.png')\n",
        "hf_hub_download('ckpt/prompt-free-diffusion', 'assets/examples-anime/pose_withhandface_small.png')\n",
        "hf_hub_download('ckpt/prompt-free-diffusion', 'assets/examples-anime/camping.jpg')\n",
        "hf_hub_download('ckpt/prompt-free-diffusion', 'assets/examples-anime/hanfu_girl.jpg')\n",
        "hf_hub_download('ckpt/prompt-free-diffusion', 'assets/examples-anime/miku.jpg')\n",
        "hf_hub_download('ckpt/prompt-free-diffusion', 'assets/examples-anime/random0.jpg')\n",
        "hf_hub_download('ckpt/prompt-free-diffusion', 'assets/examples-anime/random1.jpg')\n",
        "\n",
        "hf_hub_download('ckpt/prompt-free-diffusion', 'assets/anime_ug.pth')\n",
        "hf_hub_download('ckpt/prompt-free-diffusion', 'assets/clip_ug.pth')\n",
        "\n",
        "!pip install -r requirements.txt\n",
        "!python app.py"
      ]
    }
  ],
  "metadata": {
    "accelerator": "GPU",
    "colab": {
      "gpuType": "T4",
      "provenance": []
    },
    "gpuClass": "standard",
    "kernelspec": {
      "display_name": "Python 3",
      "name": "python3"
    },
    "language_info": {
      "name": "python"
    },
    "orig_nbformat": 4
  },
  "nbformat": 4,
  "nbformat_minor": 0
}
