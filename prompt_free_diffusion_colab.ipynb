{
  "cells": [
    {
      "cell_type": "markdown",
      "metadata": {
        "id": "view-in-github"
      },
      "source": [
        "[![Open In Colab](https://colab.research.google.com/assets/colab-badge.svg)](https://colab.research.google.com/github/camenduru/Prompt-Free-Diffusion-colab/blob/main/prompt_free_diffusion_colab.ipynb)"
      ]
    },
    {
      "cell_type": "code",
      "execution_count": null,
      "metadata": {
        "id": "OqTcARgEl-Vo"
      },
      "outputs": [],
      "source": [
        "%cd /content\n",
        "!git clone -b dev https://github.com/camenduru/Prompt-Free-Diffusion-hf\n",
        "!pip install -r requirements.txt\n",
        "\n",
        "!wget https://huggingface.co/ckpt/prompt-free-diffusion/resolve/main/assets/examples/astronautridinghouse-canny.png -O /content/Prompt-Free-Diffusion-hf/assets/examples/astronautridinghouse-canny.png\n",
        "!wget https://huggingface.co/ckpt/prompt-free-diffusion/resolve/main/assets/examples/bedroom-mlsd.png -O /content/Prompt-Free-Diffusion-hf/assets/examples/bedroom-mlsd.png\n",
        "!wget https://huggingface.co/ckpt/prompt-free-diffusion/resolve/main/assets/examples/ghibli-canny.png -O /content/Prompt-Free-Diffusion-hf/assets/examples/ghibli-canny.png\n",
        "!wget https://huggingface.co/ckpt/prompt-free-diffusion/resolve/main/assets/examples/grassland-scribble.png -O /content/Prompt-Free-Diffusion-hf/assets/examples/grassland-scribble.png\n",
        "!wget https://huggingface.co/ckpt/prompt-free-diffusion/resolve/main/assets/examples/jeep-depth.png -O /content/Prompt-Free-Diffusion-hf/assets/examples/jeep-depth.png\n",
        "!wget https://huggingface.co/ckpt/prompt-free-diffusion/resolve/main/assets/examples/nightstreet-canny.png -O /content/Prompt-Free-Diffusion-hf/assets/examples/nightstreet-canny.png\n",
        "!wget https://huggingface.co/ckpt/prompt-free-diffusion/resolve/main/assets/examples/woodcar-depth.png -O /content/Prompt-Free-Diffusion-hf/assets/examples/woodcar-depth.png\n",
        "!wget https://huggingface.co/ckpt/prompt-free-diffusion/resolve/main/assets/examples/astronautridinghouse-input.jpg -O /content/Prompt-Free-Diffusion-hf/assets/examples/astronautridinghouse-input.jpg\n",
        "!wget https://huggingface.co/ckpt/prompt-free-diffusion/resolve/main/assets/examples/bedroom-input.jpg -O /content/Prompt-Free-Diffusion-hf/assets/examples/bedroom-input.jpg\n",
        "!wget https://huggingface.co/ckpt/prompt-free-diffusion/resolve/main/assets/examples/ghibli-input.jpg -O /content/Prompt-Free-Diffusion-hf/assets/examples/ghibli-input.jpg\n",
        "!wget https://huggingface.co/ckpt/prompt-free-diffusion/resolve/main/assets/examples/grassland-input.jpg -O /content/Prompt-Free-Diffusion-hf/assets/examples/grassland-input.jpg\n",
        "!wget https://huggingface.co/ckpt/prompt-free-diffusion/resolve/main/assets/examples/jeep-input.jpg -O /content/Prompt-Free-Diffusion-hf/assets/examples/jeep-input.jpg\n",
        "!wget https://huggingface.co/ckpt/prompt-free-diffusion/resolve/main/assets/examples/nightstreet-input.jpg -O /content/Prompt-Free-Diffusion-hf/assets/examples/nightstreet-input.jpg\n",
        "!wget https://huggingface.co/ckpt/prompt-free-diffusion/resolve/main/assets/examples/woodcar-input.jpg!wget  -O /content/Prompt-Free-Diffusion-hf/assets/examples/woodcar-input.jpg!wget \n",
        "!wget https://huggingface.co/ckpt/prompt-free-diffusion/resolve/main/assets/examples-anime/miku-canny.png -O /content/Prompt-Free-Diffusion-hf/assets/examples-anime/miku-canny.png\n",
        "!wget https://huggingface.co/ckpt/prompt-free-diffusion/resolve/main/assets/examples-anime/pose.png -O /content/Prompt-Free-Diffusion-hf/assets/examples-anime/pose.png\n",
        "!wget https://huggingface.co/ckpt/prompt-free-diffusion/resolve/main/assets/examples-anime/pose_small.png -O /content/Prompt-Free-Diffusion-hf/assets/examples-anime/pose_small.png\n",
        "!wget https://huggingface.co/ckpt/prompt-free-diffusion/resolve/main/assets/examples-anime/pose_withhandface.png -O /content/Prompt-Free-Diffusion-hf/assets/examples-anime/pose_withhandface.png\n",
        "!wget https://huggingface.co/ckpt/prompt-free-diffusion/resolve/main/assets/examples-anime/pose_withhandface_small.png -O /content/Prompt-Free-Diffusion-hf/assets/examples-anime/pose_withhandface_small.png\n",
        "!wget https://huggingface.co/ckpt/prompt-free-diffusion/resolve/main/assets/examples-anime/camping.jpg -O /content/Prompt-Free-Diffusion-hf/assets/examples-anime/camping.jpg\n",
        "!wget https://huggingface.co/ckpt/prompt-free-diffusion/resolve/main/assets/examples-anime/hanfu_girl.jpg -O /content/Prompt-Free-Diffusion-hf/assets/examples-anime/hanfu_girl.jpg\n",
        "!wget https://huggingface.co/ckpt/prompt-free-diffusion/resolve/main/assets/examples-anime/miku.jpg -O /content/Prompt-Free-Diffusion-hf/assets/examples-anime/miku.jpg\n",
        "!wget https://huggingface.co/ckpt/prompt-free-diffusion/resolve/main/assets/examples-anime/random0.jpg -O /content/Prompt-Free-Diffusion-hf/assets/examples-anime/random0.jpg\n",
        "!wget https://huggingface.co/ckpt/prompt-free-diffusion/resolve/main/assets/examples-anime/random1.jpg!wget  -O /content/Prompt-Free-Diffusion-hf/assets/examples-anime/random1.jpg!wget \n",
        "!wget https://huggingface.co/ckpt/prompt-free-diffusion/resolve/main/assets/anime_ug.pth -O /content/Prompt-Free-Diffusion-hf/assets/anime_ug.pth\n",
        "!wget https://huggingface.co/ckpt/prompt-free-diffusion/resolve/main/assets/clip_ug.pth -O /content/Prompt-Free-Diffusion-hf/assets/clip_ug.pth\n",
        "\n",
        "exit()"
      ]
    },
    {
      "cell_type": "code",
      "execution_count": null,
      "metadata": {},
      "outputs": [],
      "source": [
        "%cd /content/Prompt-Free-Diffusion-hf\n",
        "!python app.py"
      ]
    }
  ],
  "metadata": {
    "accelerator": "GPU",
    "colab": {
      "gpuType": "T4",
      "provenance": []
    },
    "gpuClass": "standard",
    "kernelspec": {
      "display_name": "Python 3",
      "name": "python3"
    },
    "language_info": {
      "name": "python"
    },
    "orig_nbformat": 4
  },
  "nbformat": 4,
  "nbformat_minor": 0
}
